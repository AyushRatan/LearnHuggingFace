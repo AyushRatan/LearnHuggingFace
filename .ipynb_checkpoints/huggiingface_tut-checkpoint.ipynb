{
 "cells": [
  {
   "cell_type": "code",
   "execution_count": 1,
   "id": "f32d304f-fa99-4c59-9f07-f9f95e238685",
   "metadata": {},
   "outputs": [
    {
     "name": "stdout",
     "output_type": "stream",
     "text": [
      "Name: fastapi\n",
      "Version: 0.109.2\n",
      "Summary: FastAPI framework, high performance, easy to learn, fast to code, ready for production\n",
      "Home-page: \n",
      "Author: \n",
      "Author-email: Sebastián Ramírez <tiangolo@gmail.com>\n",
      "License: \n",
      "Location: C:\\Users\\AYRATAN\\anaconda3\\Lib\\site-packages\n",
      "Requires: pydantic, starlette, typing-extensions\n",
      "Required-by: chromadb\n"
     ]
    }
   ],
   "source": [
    "# !pip show fastapi"
   ]
  },
  {
   "cell_type": "code",
   "execution_count": 1,
   "id": "22c8593d-659c-4f66-8a5d-b3e9b4f7ad71",
   "metadata": {},
   "outputs": [
    {
     "name": "stderr",
     "output_type": "stream",
     "text": [
      "WARNING: Package(s) not found: fastapi\n"
     ]
    }
   ],
   "source": [
    "!pip show fastapi"
   ]
  },
  {
   "cell_type": "code",
   "execution_count": 2,
   "id": "b8bb3f4c-352b-411d-ac96-4b195867f635",
   "metadata": {},
   "outputs": [
    {
     "name": "stdout",
     "output_type": "stream",
     "text": [
      "Name: langchain\n",
      "Version: 0.1.11\n",
      "Summary: Building applications with LLMs through composability\n",
      "Home-page: https://github.com/langchain-ai/langchain\n",
      "Author: \n",
      "Author-email: \n",
      "License: MIT\n",
      "Location: C:\\Users\\AYRATAN\\anaconda3\\envs\\llm\\Lib\\site-packages\n",
      "Requires: aiohttp, dataclasses-json, jsonpatch, langchain-community, langchain-core, langchain-text-splitters, langsmith, numpy, pydantic, PyYAML, requests, SQLAlchemy, tenacity\n",
      "Required-by: \n"
     ]
    }
   ],
   "source": [
    "!pip show langchain"
   ]
  },
  {
   "cell_type": "code",
   "execution_count": null,
   "id": "2f6eba50-7a4e-4ad6-98a5-b2a0f0fcf88b",
   "metadata": {},
   "outputs": [],
   "source": []
  }
 ],
 "metadata": {
  "kernelspec": {
   "display_name": "llm",
   "language": "python",
   "name": "llm"
  },
  "language_info": {
   "codemirror_mode": {
    "name": "ipython",
    "version": 3
   },
   "file_extension": ".py",
   "mimetype": "text/x-python",
   "name": "python",
   "nbconvert_exporter": "python",
   "pygments_lexer": "ipython3",
   "version": "3.12.2"
  }
 },
 "nbformat": 4,
 "nbformat_minor": 5
}
